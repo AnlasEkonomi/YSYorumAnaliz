{
 "cells": [
  {
   "cell_type": "markdown",
   "metadata": {},
   "source": [
    "#İl isimlerinin bulunduğu txt dosyasını okumak ve veri alacağımız linke uygun hale getirmek.\n",
    "\n",
    "#Örnek link: https://www.yemeksepeti.com/city/adana\n",
    "\n",
    "#Not sadece il merkezli arama yapıyoruz. İlçe verilerini almıyoruz. İsteyen onu da alabilir."
   ]
  },
  {
   "cell_type": "code",
   "execution_count": 9,
   "metadata": {},
   "outputs": [
    {
     "name": "stdout",
     "output_type": "stream",
     "text": [
      "['/city/adana', '/city/adiyaman', '/city/afyonkarahisar', '/city/agri', '/city/aksaray', '/city/amasya', '/city/ankara', '/city/antalya', '/city/ardahan', '/city/artvin', '/city/aydin', '/city/balikesir', '/city/bartin', '/city/batman', '/city/bayburt', '/city/bilecik', '/city/bingol', '/city/bitlis', '/city/bolu', '/city/burdur', '/city/bursa', '/city/canakkale', '/city/cankiri', '/city/corum', '/city/denizli', '/city/diyarbakir', '/city/duzce', '/city/edirne', '/city/elazig', '/city/erzincan', '/city/erzurum', '/city/eskisehir', '/city/gaziantep', '/city/giresun', '/city/gumushane', '/city/hakkari', '/city/hatay', '/city/igdir', '/city/isparta', '/city/istanbul', '/city/izmir', '/city/kahramanmaras', '/city/karabuk', '/city/karaman', '/city/kars', '/city/kastamonu', '/city/kayseri', '/city/kilis', '/city/kirikkale', '/city/kirklareli', '/city/kirsehir', '/city/kocaeli', '/city/konya', '/city/kutahya', '/city/malatya', '/city/manisa', '/city/mardin', '/city/mersin', '/city/mugla', '/city/mus', '/city/nevsehir', '/city/nigde', '/city/ordu', '/city/osmaniye', '/city/rize', '/city/sakarya', '/city/samsun', '/city/sanliurfa', '/city/siirt', '/city/sinop', '/city/sivas', '/city/sirnak', '/city/tekirdag', '/city/tokat', '/city/trabzon', '/city/tunceli', '/city/usak', '/city/van', '/city/yalova', '/city/yozgat', '/city/zonguldak']\n"
     ]
    }
   ],
   "source": [
    "from unidecode import unidecode\n",
    "\n",
    "with open(\"iller.txt\",\"r\",encoding=\"utf-8\") as dosya:\n",
    "    iller=dosya.readlines()\n",
    "iller=[\"/city/\"+unidecode(i.strip().lower()) for i in iller]\n",
    "print(iller)"
   ]
  },
  {
   "cell_type": "markdown",
   "metadata": {},
   "source": [
    "#Tüm illere ait linkleri toplamak"
   ]
  },
  {
   "cell_type": "code",
   "execution_count": 10,
   "metadata": {},
   "outputs": [
    {
     "name": "stdout",
     "output_type": "stream",
     "text": [
      "['https://www.yemeksepeti.com/city/adana', 'https://www.yemeksepeti.com/city/adiyaman', 'https://www.yemeksepeti.com/city/afyonkarahisar', 'https://www.yemeksepeti.com/city/agri', 'https://www.yemeksepeti.com/city/aksaray', 'https://www.yemeksepeti.com/city/amasya', 'https://www.yemeksepeti.com/city/ankara', 'https://www.yemeksepeti.com/city/antalya', 'https://www.yemeksepeti.com/city/ardahan', 'https://www.yemeksepeti.com/city/artvin', 'https://www.yemeksepeti.com/city/aydin', 'https://www.yemeksepeti.com/city/balikesir', 'https://www.yemeksepeti.com/city/bartin', 'https://www.yemeksepeti.com/city/batman', 'https://www.yemeksepeti.com/city/bayburt', 'https://www.yemeksepeti.com/city/bilecik', 'https://www.yemeksepeti.com/city/bingol', 'https://www.yemeksepeti.com/city/bitlis', 'https://www.yemeksepeti.com/city/bolu', 'https://www.yemeksepeti.com/city/burdur', 'https://www.yemeksepeti.com/city/bursa', 'https://www.yemeksepeti.com/city/canakkale', 'https://www.yemeksepeti.com/city/cankiri', 'https://www.yemeksepeti.com/city/corum', 'https://www.yemeksepeti.com/city/denizli', 'https://www.yemeksepeti.com/city/diyarbakir', 'https://www.yemeksepeti.com/city/duzce', 'https://www.yemeksepeti.com/city/edirne', 'https://www.yemeksepeti.com/city/elazig', 'https://www.yemeksepeti.com/city/erzincan', 'https://www.yemeksepeti.com/city/erzurum', 'https://www.yemeksepeti.com/city/eskisehir', 'https://www.yemeksepeti.com/city/gaziantep', 'https://www.yemeksepeti.com/city/giresun', 'https://www.yemeksepeti.com/city/gumushane', 'https://www.yemeksepeti.com/city/hakkari', 'https://www.yemeksepeti.com/city/hatay', 'https://www.yemeksepeti.com/city/igdir', 'https://www.yemeksepeti.com/city/isparta', 'https://www.yemeksepeti.com/city/istanbul', 'https://www.yemeksepeti.com/city/izmir', 'https://www.yemeksepeti.com/city/kahramanmaras', 'https://www.yemeksepeti.com/city/karabuk', 'https://www.yemeksepeti.com/city/karaman', 'https://www.yemeksepeti.com/city/kars', 'https://www.yemeksepeti.com/city/kastamonu', 'https://www.yemeksepeti.com/city/kayseri', 'https://www.yemeksepeti.com/city/kilis', 'https://www.yemeksepeti.com/city/kirikkale', 'https://www.yemeksepeti.com/city/kirklareli', 'https://www.yemeksepeti.com/city/kirsehir', 'https://www.yemeksepeti.com/city/kocaeli', 'https://www.yemeksepeti.com/city/konya', 'https://www.yemeksepeti.com/city/kutahya', 'https://www.yemeksepeti.com/city/malatya', 'https://www.yemeksepeti.com/city/manisa', 'https://www.yemeksepeti.com/city/mardin', 'https://www.yemeksepeti.com/city/mersin', 'https://www.yemeksepeti.com/city/mugla', 'https://www.yemeksepeti.com/city/mus', 'https://www.yemeksepeti.com/city/nevsehir', 'https://www.yemeksepeti.com/city/nigde', 'https://www.yemeksepeti.com/city/ordu', 'https://www.yemeksepeti.com/city/osmaniye', 'https://www.yemeksepeti.com/city/rize', 'https://www.yemeksepeti.com/city/sakarya', 'https://www.yemeksepeti.com/city/samsun', 'https://www.yemeksepeti.com/city/sanliurfa', 'https://www.yemeksepeti.com/city/siirt', 'https://www.yemeksepeti.com/city/sinop', 'https://www.yemeksepeti.com/city/sivas', 'https://www.yemeksepeti.com/city/sirnak', 'https://www.yemeksepeti.com/city/tekirdag', 'https://www.yemeksepeti.com/city/tokat', 'https://www.yemeksepeti.com/city/trabzon', 'https://www.yemeksepeti.com/city/tunceli', 'https://www.yemeksepeti.com/city/usak', 'https://www.yemeksepeti.com/city/van', 'https://www.yemeksepeti.com/city/yalova', 'https://www.yemeksepeti.com/city/yozgat', 'https://www.yemeksepeti.com/city/zonguldak']\n"
     ]
    }
   ],
   "source": [
    "urls=[]\n",
    "for i in iller:\n",
    "    url=f\"https://www.yemeksepeti.com{i}\"\n",
    "    urls.append(url)\n",
    "print(urls)"
   ]
  },
  {
   "cell_type": "markdown",
   "metadata": {},
   "source": [
    "#Toplanan linklere tek tek istek atmak ve o ilde olan firma isimlerini sonuc adlı listede toplamak\n",
    "\n",
    "#Eğer hata alırsanız muhtemelen site aşırı istekten sizi engellemiştir. 5 dk kadar bekleyip tekrar deneyin."
   ]
  },
  {
   "cell_type": "code",
   "execution_count": 5,
   "metadata": {},
   "outputs": [],
   "source": [
    "import cloudscraper\n",
    "from bs4 import BeautifulSoup\n",
    "\n",
    "def firmaadları(link):\n",
    "    scraper=cloudscraper.CloudScraper()\n",
    "    req=scraper.get(link)\n",
    "    req.encoding=\"utf-8\"\n",
    "    soup=BeautifulSoup(req.text,\"html.parser\")\n",
    "    etiketler=soup.find_all(\"div\",{\"class\":\"bds-c-grid-item vendor webfound-refresh\"})\n",
    "\n",
    "    sonuc=[]\n",
    "    for etiket in etiketler:\n",
    "        firmaisim=etiket.find(\"div\", {\"class\": \"vendor-name f-title-small-font-size fw-title-small-font-weight lh-title-small-line-height ff-title-small-font-family ffs-title-small-font-feature-settings\"})\n",
    "        if firmaisim:\n",
    "            firmaisim=firmaisim.get_text(strip=True)\n",
    "\n",
    "            link=etiket.find(\"a\")\n",
    "            href=link.get('href')\n",
    "\n",
    "            sonuc.append({\"Firma\":firmaisim,\"Href\": href})\n",
    "    if sonuc:\n",
    "        df={item[\"Firma\"]: item[\"Href\"] for item in sonuc}\n",
    "        return df\n",
    "    return {}\n"
   ]
  },
  {
   "cell_type": "markdown",
   "metadata": {},
   "source": [
    "#Firma isimlerini firma kodlarını ve hangi ilde olduklarını bir araya toplamak için boş dataframe açıyoruz."
   ]
  },
  {
   "cell_type": "code",
   "execution_count": 11,
   "metadata": {},
   "outputs": [
    {
     "name": "stdout",
     "output_type": "stream",
     "text": [
      "                                     Firma Adı Firma Kodu         İl\n",
      "0     Meşhur Adıyaman Çiğ Köftecisi Ömer Aybak       fdjc      Adana\n",
      "1                                Mr. Çiğ Köfte       pmlc      Adana\n",
      "2                                         Köse       u2bz      Adana\n",
      "3                            Bolulu Hasan Usta       cr4o      Adana\n",
      "4                             Starbucks Coffee       ues6      Adana\n",
      "...                                        ...        ...        ...\n",
      "3575                               Helvacı Ali       ie2s  Zonguldak\n",
      "3576                               Usta Pideci       a515  Zonguldak\n",
      "3577                                Yummy Yumm       k1ce  Zonguldak\n",
      "3578                               Hayal Döner       timb  Zonguldak\n",
      "3579                          Çiğ Köfteci Sait       x0fw  Zonguldak\n",
      "\n",
      "[3580 rows x 3 columns]\n"
     ]
    }
   ],
   "source": [
    "import pandas as pd\n",
    "\n",
    "veri=pd.DataFrame(columns=[\"Firma Adı\",\"Firma Kodu\",\"İl\"])\n",
    "\n",
    "for url in urls:\n",
    "    firmalar=firmaadları(url) \n",
    "    il=url.split(\"/\")[-1]\n",
    "    for firma_adı,firma_href in firmalar.items():\n",
    "        firma_kodu=firma_href.split(\"/\")[-2]\n",
    "        veri=veri._append({\"Firma Adı\":firma_adı,\"Firma Kodu\":firma_kodu,\"İl\":il},ignore_index=True)\n",
    "        \n",
    "veri[\"İl\"]=veri[\"İl\"].str.capitalize()\n",
    "\n",
    "print(veri)"
   ]
  },
  {
   "cell_type": "markdown",
   "metadata": {},
   "source": [
    "#Yorumlar için firma kodlarına ihtiyacımız var. O yüzden bir öncekinde onu hallettik\n",
    "\n",
    "#Örnek link: https://reviews-api-tr.fd-api.com/reviews/vendor/tn40?global_entity_id=YS_TR&limit=100&created_at=desc&has_dish=true\n",
    "\n",
    "#Linkteki \"tn40\" firma kodudur. Geriye kalanlar ise yorumların yeniden eskiye sıralanmasıdır\n",
    "\n",
    "#Not bu linkler yorumlarda en iyi puan, düşükten yükseğe veya eskiden yeniye olarak değişebilir. Biz yanlı olmaması adına eskiden yeniye şeklinde aldık "
   ]
  },
  {
   "cell_type": "code",
   "execution_count": 7,
   "metadata": {},
   "outputs": [],
   "source": [
    "def yorumlar(firma_kodu):\n",
    "    url=f\"https://reviews-api-tr.fd-api.com/reviews/vendor/{firma_kodu}?global_entity_id=YS_TR&limit=100&created_at=desc&has_dish=true\"\n",
    "    scraper=cloudscraper.CloudScraper()\n",
    "    req=scraper.get(url).json()[\"data\"]\n",
    "\n",
    "    yorum=[item[\"text\"] for item in req]\n",
    "    return yorum"
   ]
  },
  {
   "cell_type": "markdown",
   "metadata": {},
   "source": [
    "#Yorumlar isimli fonksiyona bir önce elde ettiğimiz tüm firma kodlarını gönderdik ve yorumları aldık\n",
    "\n",
    "#Bu yorumları veri isimli data setimizde Yorumlar isimli sütuna taşıdık ve daha sonra firma kodlarını sildik\n",
    "\n",
    "#En sonda da \"yorumlar\" isminde csv olarak kaydettik"
   ]
  },
  {
   "cell_type": "code",
   "execution_count": 8,
   "metadata": {},
   "outputs": [],
   "source": [
    "veri[\"Yorumlar\"]=veri[\"Firma Kodu\"].apply(lambda x: yorumlar(x))\n",
    "veri.drop(columns=[\"Firma Kodu\"],inplace=True)\n",
    "veri.to_csv(\"yorumlar.csv\",index=False,encoding=\"utf-8\")"
   ]
  }
 ],
 "metadata": {
  "kernelspec": {
   "display_name": "Python 3",
   "language": "python",
   "name": "python3"
  },
  "language_info": {
   "codemirror_mode": {
    "name": "ipython",
    "version": 3
   },
   "file_extension": ".py",
   "mimetype": "text/x-python",
   "name": "python",
   "nbconvert_exporter": "python",
   "pygments_lexer": "ipython3",
   "version": "3.12.6"
  }
 },
 "nbformat": 4,
 "nbformat_minor": 2
}
