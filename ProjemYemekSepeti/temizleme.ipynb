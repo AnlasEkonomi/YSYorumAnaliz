{
 "cells": [
  {
   "cell_type": "markdown",
   "metadata": {},
   "source": [
    "### Verimizi okuyalım"
   ]
  },
  {
   "cell_type": "code",
   "execution_count": 70,
   "metadata": {},
   "outputs": [
    {
     "name": "stdout",
     "output_type": "stream",
     "text": [
      "              Firma Adı         İl  \\\n",
      "0         Mr. Çiğ Köfte      Adana   \n",
      "1                  Köse      Adana   \n",
      "2     Bolulu Hasan Usta      Adana   \n",
      "3      Starbucks Coffee      Adana   \n",
      "4     Şirinoğlu Baklava      Adana   \n",
      "...                 ...        ...   \n",
      "3627  Ziyafet Çiğ Köfte  Zonguldak   \n",
      "3628          Çiğköftem  Zonguldak   \n",
      "3629        Helvacı Ali  Zonguldak   \n",
      "3630     Mersin Tantuni  Zonguldak   \n",
      "3631        Hayal Döner  Zonguldak   \n",
      "\n",
      "                                               Yorumlar  \n",
      "0     ['Herşey güzeldi yapanın ellerine sağlık.', 'm...  \n",
      "1                                                    []  \n",
      "2     ['Taze ve güzeldi her zamanki kalite şaşırmadı...  \n",
      "3     ['frozen berry hibiscus yerine mango dragonfru...  \n",
      "4     ['Beyaz fıstık ilk defa gördüm ', 'Porsiyon aş...  \n",
      "...                                                 ...  \n",
      "3627  ['berbat ', '10 dakikaya geldi ve çok lezzetli...  \n",
      "3628                                                 []  \n",
      "3629  ['abi tatlı da tuzlu tereyağı mı kullanılır?? ...  \n",
      "3630  ['Kurye alın işe.', 'Bu işletmenin en büyük so...  \n",
      "3631  ['10 dk da geldi güzeldi', 'İlk başlarda aşırı...  \n",
      "\n",
      "[3632 rows x 3 columns]\n"
     ]
    }
   ],
   "source": [
    "import pandas as pd\n",
    "\n",
    "veriset=pd.read_csv(\"yorumlar.csv\")\n",
    "print(veriset)"
   ]
  },
  {
   "cell_type": "markdown",
   "metadata": {},
   "source": [
    "### Her bir firmayı ve bulunduğu ili bir satırda saklarken, firmanın yorumu birden fazla olduğu için Yorumlar sütunu liste biçiminde\n",
    "\n",
    "### Bunu düzeltmek adına eval ve explode işlemlerini yapıyoruz"
   ]
  },
  {
   "cell_type": "code",
   "execution_count": 71,
   "metadata": {},
   "outputs": [
    {
     "name": "stdout",
     "output_type": "stream",
     "text": [
      "           Firma Adı         İl  \\\n",
      "0      Mr. Çiğ Köfte      Adana   \n",
      "1      Mr. Çiğ Köfte      Adana   \n",
      "2      Mr. Çiğ Köfte      Adana   \n",
      "3      Mr. Çiğ Köfte      Adana   \n",
      "4      Mr. Çiğ Köfte      Adana   \n",
      "...              ...        ...   \n",
      "61199    Hayal Döner  Zonguldak   \n",
      "61200    Hayal Döner  Zonguldak   \n",
      "61201    Hayal Döner  Zonguldak   \n",
      "61202    Hayal Döner  Zonguldak   \n",
      "61203    Hayal Döner  Zonguldak   \n",
      "\n",
      "                                                Yorumlar  \n",
      "0                Herşey güzeldi yapanın ellerine sağlık.  \n",
      "1                                      mükemmel mükemmel  \n",
      "2          mega çiğ köfte normal çiğ köfte olarak geldi   \n",
      "3      Çiğköfte çok iyi ama yanındaki yeşillikler bu ...  \n",
      "4           Bütün garnitürler pörsümüş kötü durumdaydı.   \n",
      "...                                                  ...  \n",
      "61199                                   Çok hızlı geldi   \n",
      "61200         Çok güzeldi bol malzemeli çok teşekkürler   \n",
      "61201  dürümler güzelde zurnayı neden 2 ye bölüp yoll...  \n",
      "61202                            üç kere kıkırdak çıktı   \n",
      "61203                                    Gayet başarılı.  \n",
      "\n",
      "[61204 rows x 3 columns]\n"
     ]
    }
   ],
   "source": [
    "veriset[\"Yorumlar\"]=veriset[\"Yorumlar\"].apply(eval)\n",
    "veri=veriset.explode(\"Yorumlar\").reset_index(drop=True)\n",
    "print(veri)"
   ]
  },
  {
   "cell_type": "markdown",
   "metadata": {},
   "source": [
    "### Boş yorum kontrolü ve var ise onları silmek"
   ]
  },
  {
   "cell_type": "code",
   "execution_count": 72,
   "metadata": {},
   "outputs": [
    {
     "name": "stdout",
     "output_type": "stream",
     "text": [
      "Firma Adı    0\n",
      "İl           0\n",
      "Yorumlar     0\n",
      "dtype: int64\n"
     ]
    }
   ],
   "source": [
    "if veri.isnull().sum().sum()>0:\n",
    "    veri.dropna(axis=0,inplace=True)\n",
    "\n",
    "print(veri.isnull().sum())"
   ]
  },
  {
   "cell_type": "markdown",
   "metadata": {},
   "source": [
    "### Öncelikle temizlemede kullanacağımız Türkçe Stop Words dosyasını okuyoruz\n",
    "\n",
    "### Bu dosya benim hazırladığımdır. İnternette farklı kaynaklarda benzerini de bulabilirsiniz"
   ]
  },
  {
   "cell_type": "code",
   "execution_count": 73,
   "metadata": {},
   "outputs": [
    {
     "name": "stdout",
     "output_type": "stream",
     "text": [
      "['ama', 'amma', 'anca', 'ancak', 'belki', 'çünkü', 'dahi', 'eğer', 'emme', 'fakat', 'gah', 'gerek', 'hakeza', 'halbuki', 'hatta', 'hele', 'hem', 'hoş', 'ile', 'ile', 'imdi', 'ister', 'kah', 'keşke', 'keza', 'kezalik', 'kim', 'lakin', 'madem', 'mademki', 'mamafih', 'meğer', 'meğerki', 'meğerse', 'netekim', 'neyse', 'nitekim', 'oysa', 'oysaki', 'şayet', 've', 'velev', 'velhasıl', 'velhasılıkelam', 'veya', 'veyahut', 'yahut', 'yalnız', 'yani', 'yok', 'yoksa', 'zira', 'acaba', 'acep', 'açıkça', 'açıkçası', 'adamakıllı', 'adeta', 'bazen', 'bazı', 'bilcümle', 'binaen', 'binaenaleyh', 'bir', 'biraz', 'birazdan', 'birden', 'birden', 'birdenbire', 'birice', 'birlikte', 'bitevi', 'biteviye', 'bittabi', 'bizatihi', 'bizce', 'bizcileyin', 'bizden', 'bizzat', 'boşuna', 'böyle', 'böylece', 'böylecene', 'böylelikle', 'böylemesine', 'böylesine', 'buracıkta', 'burada', 'buradan', 'büsbütün', 'çabuk', 'çabukça', 'çeşitli', 'çoğu', 'çoğun', 'çoğunca', 'çoğunlukla', 'çok', 'çokça', 'çokluk', 'çoklukla', 'cuk', 'daha', 'dahil', 'dahilen', 'daima', 'demin', 'demincek', 'deminden', 'derakap', 'derhal', 'derken', 'diye', 'elbet', 'elbette', 'enikonu', 'epey', 'epeyce', 'epeyi', 'esasen', 'esnasında', 'etraflı', 'etraflıca', 'evleviyetle', 'evvel', 'evvela', 'evvelce', 'evvelden', 'evvelemirde', 'evveli', 'gayet', 'gayetle', 'gayri', 'gayrı', 'geçende', 'geçenlerde', 'gene', 'gerçi', 'gibi', 'gibilerden', 'gibisinden', 'gine', 'halen', 'halihazırda', 'haliyle', 'handiyse', 'hani', 'hasılı', 'hulasaten', 'iken', 'illa', 'illaki', 'itibarıyla', 'iyice', 'iyicene', 'kala', 'kez', 'kısaca', 'külliyen', 'lütfen', 'nasıl', 'nasılsa', 'nazaran', 'neden', 'nedeniyle', 'nedense', 'nerde', 'nerden', 'nerdeyse', 'nerede', 'nereden', 'neredeyse', 'nereye', 'neye', 'neyi', 'nice', 'niçin', 'nihayet', 'nihayetinde', 'niye', 'oldu', 'oldukça', 'olur', 'onca', 'önce', 'önceden', 'önceleri', 'öncelikle', 'onculayın', 'ondan', 'oracık', 'oracıkta', 'orada', 'oradan', 'oranca', 'oranla', 'oraya', 'öyle', 'öylece', 'öylelikle', 'öylemesine', 'pek', 'pekala', 'pekçe', 'peki', 'peyderpey', 'sadece', 'sahi', 'sahiden', 'sanki', 'sonra', 'sonradan', 'sonraları', 'sonunda', 'şöyle', 'şuncacık', 'şuracıkta', 'tabii', 'tam', 'tamam', 'tamamen', 'tamamıyla', 'tek', 'vasıtasıyla', 'yakinen', 'yakında', 'yakından', 'yakınlarda', 'yalnız', 'yalnızca', 'yeniden', 'yenilerde', 'yine', 'yok', 'yoluyla', 'yüzünden', 'zaten', 'zati', 'ait', 'bari', 'beri', 'bile', 'değin', 'dek', 'denli', 'doğru', 'dolayı', 'dolayısıyla', 'gelgelelim', 'gibi', 'gırla', 'göre', 'hasebiyle', 'için', 'ila', 'ile', 'ilen', 'indinde', 'inen', 'kadar', 'kaffesi', 'karşın', 'kelli', 'Leh', 'maada', 'mebni', 'naşi', 'rağmen', 'üzere', 'zarfında', 'öbür', 'bana', 'başkası', 'ben', 'beriki', 'birbiri', 'birçoğu', 'biri', 'birileri', 'birisi', 'birkaçı', 'biz', 'bizimki', 'buna', 'bunda', 'bundan', 'bunlar', 'bunu', 'bunun', 'burası', 'çoğu', 'çoğu', 'çokları', 'çoklarınca', 'cümlesi', 'değil', 'diğeri', 'filanca', 'hangisi', 'hepsi', 'hiçbiri', 'iş', 'kaçı', 'kaynak', 'kendi', 'kim', 'kimi', 'kimisi', 'kimse', 'kimse', 'kimsecik', 'kimsecikler', 'nere', 'neresi', 'öbürkü', 'öbürü', 'ona', 'onda', 'ondan', 'onlar', 'onu', 'onun', 'öteki', 'ötekisi', 'öz', 'sana', 'sen', 'siz', 'şuna', 'şunda', 'şundan', 'şunlar', 'şunu', 'şunun', 'şura', 'şuracık', 'şurası', 'de', 'da', 'di', 'i', 'hiç', 'ne', 'en', 'bi', 'her', 'cok', 'çok', 'bu', 'o', 'nan', 'ki', 'şey', 'ya', 's', 'te', 'mı', 'mi']\n"
     ]
    }
   ],
   "source": [
    "with open(\"stopwturkish.txt\",\"r\",encoding=\"utf-8\") as dosya:\n",
    "    sw=[satir.strip() for satir in dosya.readlines()]\n",
    "\n",
    "print(sw)"
   ]
  },
  {
   "cell_type": "markdown",
   "metadata": {},
   "source": [
    "### Yorumlarımızı temizlemek için fonksiyon oluşturalım"
   ]
  },
  {
   "cell_type": "code",
   "execution_count": 74,
   "metadata": {},
   "outputs": [],
   "source": [
    "import re\n",
    "\n",
    "def temizlik(cumle):\n",
    "    cumle=str(cumle)  #Doğru temizlemesi açısından tüm yorumları string hale çevir\n",
    "    temiz=cumle.lower() #Hepsini küçük harf yapar\n",
    "    temiz=re.sub(r'[^\\w\\s]',\" \",temiz) #Özel karakterleri temizler\n",
    "    temiz=re.sub(r'\\d+',\" \",temiz) #Sayıları temizler\n",
    "    temiz=re.sub(r'\\s+',\" \",temiz) #Ardışık boşlukları temizler\n",
    "    temiz=\" \".join([kelime for kelime in temiz.split() if kelime not in sw]) #Stop Words olanları temizler\n",
    "    temiz=temiz.strip() #Baş ve son boşlukları temizler\n",
    "    return temiz"
   ]
  },
  {
   "cell_type": "markdown",
   "metadata": {},
   "source": [
    "### Temizlik fonksiyonunu uygulayalım ve Temiz Yorum isimli yeni bir sütuna gönderelim"
   ]
  },
  {
   "cell_type": "code",
   "execution_count": 75,
   "metadata": {},
   "outputs": [
    {
     "name": "stdout",
     "output_type": "stream",
     "text": [
      "           Firma Adı         İl  \\\n",
      "0      Mr. Çiğ Köfte      Adana   \n",
      "1      Mr. Çiğ Köfte      Adana   \n",
      "2      Mr. Çiğ Köfte      Adana   \n",
      "3      Mr. Çiğ Köfte      Adana   \n",
      "4      Mr. Çiğ Köfte      Adana   \n",
      "...              ...        ...   \n",
      "61199    Hayal Döner  Zonguldak   \n",
      "61200    Hayal Döner  Zonguldak   \n",
      "61201    Hayal Döner  Zonguldak   \n",
      "61202    Hayal Döner  Zonguldak   \n",
      "61203    Hayal Döner  Zonguldak   \n",
      "\n",
      "                                                Yorumlar  \\\n",
      "0                Herşey güzeldi yapanın ellerine sağlık.   \n",
      "1                                      mükemmel mükemmel   \n",
      "2          mega çiğ köfte normal çiğ köfte olarak geldi    \n",
      "3      Çiğköfte çok iyi ama yanındaki yeşillikler bu ...   \n",
      "4           Bütün garnitürler pörsümüş kötü durumdaydı.    \n",
      "...                                                  ...   \n",
      "61199                                   Çok hızlı geldi    \n",
      "61200         Çok güzeldi bol malzemeli çok teşekkürler    \n",
      "61201  dürümler güzelde zurnayı neden 2 ye bölüp yoll...   \n",
      "61202                            üç kere kıkırdak çıktı    \n",
      "61203                                    Gayet başarılı.   \n",
      "\n",
      "                                             Temiz Yorum  \n",
      "0                 herşey güzeldi yapanın ellerine sağlık  \n",
      "1                                      mükemmel mükemmel  \n",
      "2           mega çiğ köfte normal çiğ köfte olarak geldi  \n",
      "3      çiğköfte iyi yanındaki yeşillikler taze değild...  \n",
      "4             bütün garnitürler pörsümüş kötü durumdaydı  \n",
      "...                                                  ...  \n",
      "61199                                        hızlı geldi  \n",
      "61200                  güzeldi bol malzemeli teşekkürler  \n",
      "61201    dürümler güzelde zurnayı ye bölüp yolluyorsunuz  \n",
      "61202                             üç kere kıkırdak çıktı  \n",
      "61203                                           başarılı  \n",
      "\n",
      "[60720 rows x 4 columns]\n"
     ]
    }
   ],
   "source": [
    "veri[\"Temiz Yorum\"]=veri[\"Yorumlar\"].apply(temizlik)\n",
    "\n",
    "print(veri)"
   ]
  },
  {
   "cell_type": "markdown",
   "metadata": {},
   "source": [
    "### Aynı firma adında aynı ilde aynı yorum varsa onu kaldırır"
   ]
  },
  {
   "cell_type": "code",
   "execution_count": 76,
   "metadata": {},
   "outputs": [
    {
     "name": "stdout",
     "output_type": "stream",
     "text": [
      "           Firma Adı         İl  \\\n",
      "0      Mr. Çiğ Köfte      Adana   \n",
      "1      Mr. Çiğ Köfte      Adana   \n",
      "2      Mr. Çiğ Köfte      Adana   \n",
      "3      Mr. Çiğ Köfte      Adana   \n",
      "4      Mr. Çiğ Köfte      Adana   \n",
      "...              ...        ...   \n",
      "59753    Hayal Döner  Zonguldak   \n",
      "59754    Hayal Döner  Zonguldak   \n",
      "59755    Hayal Döner  Zonguldak   \n",
      "59756    Hayal Döner  Zonguldak   \n",
      "59757    Hayal Döner  Zonguldak   \n",
      "\n",
      "                                                Yorumlar  \\\n",
      "0                Herşey güzeldi yapanın ellerine sağlık.   \n",
      "1                                      mükemmel mükemmel   \n",
      "2          mega çiğ köfte normal çiğ köfte olarak geldi    \n",
      "3      Çiğköfte çok iyi ama yanındaki yeşillikler bu ...   \n",
      "4           Bütün garnitürler pörsümüş kötü durumdaydı.    \n",
      "...                                                  ...   \n",
      "59753                                   Çok hızlı geldi    \n",
      "59754         Çok güzeldi bol malzemeli çok teşekkürler    \n",
      "59755  dürümler güzelde zurnayı neden 2 ye bölüp yoll...   \n",
      "59756                            üç kere kıkırdak çıktı    \n",
      "59757                                    Gayet başarılı.   \n",
      "\n",
      "                                             Temiz Yorum  \n",
      "0                 herşey güzeldi yapanın ellerine sağlık  \n",
      "1                                      mükemmel mükemmel  \n",
      "2           mega çiğ köfte normal çiğ köfte olarak geldi  \n",
      "3      çiğköfte iyi yanındaki yeşillikler taze değild...  \n",
      "4             bütün garnitürler pörsümüş kötü durumdaydı  \n",
      "...                                                  ...  \n",
      "59753                                        hızlı geldi  \n",
      "59754                  güzeldi bol malzemeli teşekkürler  \n",
      "59755    dürümler güzelde zurnayı ye bölüp yolluyorsunuz  \n",
      "59756                             üç kere kıkırdak çıktı  \n",
      "59757                                           başarılı  \n",
      "\n",
      "[59758 rows x 4 columns]\n"
     ]
    }
   ],
   "source": [
    "veri=veri.drop_duplicates(subset=[\"Firma Adı\",\"İl\",\"Temiz Yorum\"],keep=False)\n",
    "veri.reset_index(drop=True,inplace=True)\n",
    "print(veri)"
   ]
  },
  {
   "cell_type": "markdown",
   "metadata": {},
   "source": [
    "### Temiz yorumda tokenize etme"
   ]
  },
  {
   "cell_type": "code",
   "execution_count": 77,
   "metadata": {},
   "outputs": [
    {
     "name": "stdout",
     "output_type": "stream",
     "text": [
      "           Firma Adı         İl  \\\n",
      "0      Mr. Çiğ Köfte      Adana   \n",
      "1      Mr. Çiğ Köfte      Adana   \n",
      "2      Mr. Çiğ Köfte      Adana   \n",
      "3      Mr. Çiğ Köfte      Adana   \n",
      "4      Mr. Çiğ Köfte      Adana   \n",
      "...              ...        ...   \n",
      "59753    Hayal Döner  Zonguldak   \n",
      "59754    Hayal Döner  Zonguldak   \n",
      "59755    Hayal Döner  Zonguldak   \n",
      "59756    Hayal Döner  Zonguldak   \n",
      "59757    Hayal Döner  Zonguldak   \n",
      "\n",
      "                                                Yorumlar  \\\n",
      "0                Herşey güzeldi yapanın ellerine sağlık.   \n",
      "1                                      mükemmel mükemmel   \n",
      "2          mega çiğ köfte normal çiğ köfte olarak geldi    \n",
      "3      Çiğköfte çok iyi ama yanındaki yeşillikler bu ...   \n",
      "4           Bütün garnitürler pörsümüş kötü durumdaydı.    \n",
      "...                                                  ...   \n",
      "59753                                   Çok hızlı geldi    \n",
      "59754         Çok güzeldi bol malzemeli çok teşekkürler    \n",
      "59755  dürümler güzelde zurnayı neden 2 ye bölüp yoll...   \n",
      "59756                            üç kere kıkırdak çıktı    \n",
      "59757                                    Gayet başarılı.   \n",
      "\n",
      "                                             Temiz Yorum  \\\n",
      "0                 herşey güzeldi yapanın ellerine sağlık   \n",
      "1                                      mükemmel mükemmel   \n",
      "2           mega çiğ köfte normal çiğ köfte olarak geldi   \n",
      "3      çiğköfte iyi yanındaki yeşillikler taze değild...   \n",
      "4             bütün garnitürler pörsümüş kötü durumdaydı   \n",
      "...                                                  ...   \n",
      "59753                                        hızlı geldi   \n",
      "59754                  güzeldi bol malzemeli teşekkürler   \n",
      "59755    dürümler güzelde zurnayı ye bölüp yolluyorsunuz   \n",
      "59756                             üç kere kıkırdak çıktı   \n",
      "59757                                           başarılı   \n",
      "\n",
      "                                          Tokenize Yorum  \n",
      "0           (herşey, güzeldi, yapanın, ellerine, sağlık)  \n",
      "1                                   (mükemmel, mükemmel)  \n",
      "2      (mega, çiğ, köfte, normal, çiğ, köfte, olarak,...  \n",
      "3      (çiğköfte, iyi, yanındaki, yeşillikler, taze, ...  \n",
      "4       (bütün, garnitürler, pörsümüş, kötü, durumdaydı)  \n",
      "...                                                  ...  \n",
      "59753                                     (hızlı, geldi)  \n",
      "59754             (güzeldi, bol, malzemeli, teşekkürler)  \n",
      "59755  (dürümler, güzelde, zurnayı, ye, bölüp, yolluy...  \n",
      "59756                        (üç, kere, kıkırdak, çıktı)  \n",
      "59757                                        (başarılı,)  \n",
      "\n",
      "[59758 rows x 5 columns]\n"
     ]
    }
   ],
   "source": [
    "from trtokenizer.tr_tokenizer import WordTokenizer\n",
    "\n",
    "veri[\"Tokenize Yorum\"]=veri[\"Temiz Yorum\"].apply(WordTokenizer().tokenize)\n",
    "print(veri)"
   ]
  },
  {
   "cell_type": "markdown",
   "metadata": {},
   "source": [
    "### Temizlik sonrası veri setimizi kaydedelim"
   ]
  },
  {
   "cell_type": "code",
   "execution_count": 78,
   "metadata": {},
   "outputs": [],
   "source": [
    "veri.to_csv(\"temizyorumlar.csv\",index=False,encoding=\"utf-8\")"
   ]
  }
 ],
 "metadata": {
  "kernelspec": {
   "display_name": "Python 3",
   "language": "python",
   "name": "python3"
  },
  "language_info": {
   "codemirror_mode": {
    "name": "ipython",
    "version": 3
   },
   "file_extension": ".py",
   "mimetype": "text/x-python",
   "name": "python",
   "nbconvert_exporter": "python",
   "pygments_lexer": "ipython3",
   "version": "3.12.6"
  }
 },
 "nbformat": 4,
 "nbformat_minor": 2
}
